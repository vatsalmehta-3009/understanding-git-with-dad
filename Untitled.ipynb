{
 "cells": [
  {
   "cell_type": "code",
   "execution_count": 5,
   "id": "0e622e0e",
   "metadata": {},
   "outputs": [],
   "source": [
    "colors = ['red','blue','black','yellow']\n",
    "names = ['vatsal','varun','jigar','neha']\n"
   ]
  },
  {
   "cell_type": "code",
   "execution_count": 6,
   "id": "e6f3fff7",
   "metadata": {},
   "outputs": [
    {
     "name": "stdout",
     "output_type": "stream",
     "text": [
      "vatsal --> red\n",
      "varun --> blue\n",
      "jigar --> black\n",
      "neha --> yellow\n"
     ]
    }
   ],
   "source": [
    "for name, color in zip(names,colors):\n",
    "    print(name, '-->',color)"
   ]
  },
  {
   "cell_type": "code",
   "execution_count": 7,
   "id": "d19b8e5c",
   "metadata": {},
   "outputs": [
    {
     "name": "stdout",
     "output_type": "stream",
     "text": [
      "red --> vatsal\n",
      "blue --> varun\n",
      "black --> jigar\n",
      "yellow --> neha\n"
     ]
    }
   ],
   "source": [
    "for color,name in zip(colors,names):\n",
    "    print(color, '-->',name)"
   ]
  },
  {
   "cell_type": "code",
   "execution_count": null,
   "id": "5396bc56",
   "metadata": {},
   "outputs": [],
   "source": []
  }
 ],
 "metadata": {
  "kernelspec": {
   "display_name": "Python 3 (ipykernel)",
   "language": "python",
   "name": "python3"
  },
  "language_info": {
   "codemirror_mode": {
    "name": "ipython",
    "version": 3
   },
   "file_extension": ".py",
   "mimetype": "text/x-python",
   "name": "python",
   "nbconvert_exporter": "python",
   "pygments_lexer": "ipython3",
   "version": "3.8.8"
  }
 },
 "nbformat": 4,
 "nbformat_minor": 5
}
